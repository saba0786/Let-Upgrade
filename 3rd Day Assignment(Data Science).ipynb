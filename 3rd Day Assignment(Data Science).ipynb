{
 "cells": [
  {
   "cell_type": "markdown",
   "metadata": {},
   "source": [
    "# Q1"
   ]
  },
  {
   "cell_type": "code",
   "execution_count": 3,
   "metadata": {},
   "outputs": [
    {
     "data": {
      "text/plain": [
       "array([ 2,  5,  8, 11, 14, 17, 20, 23, 26, 29, 32, 35, 38, 41, 44, 47])"
      ]
     },
     "execution_count": 3,
     "metadata": {},
     "output_type": "execute_result"
    }
   ],
   "source": [
    "import numpy as np\n",
    "np.arange(start=2, stop=50, step=3)"
   ]
  },
  {
   "cell_type": "markdown",
   "metadata": {},
   "source": [
    "# Q2"
   ]
  },
  {
   "cell_type": "code",
   "execution_count": 7,
   "metadata": {},
   "outputs": [
    {
     "name": "stdout",
     "output_type": "stream",
     "text": [
      "22\n",
      "33\n",
      "65\n",
      "12\n",
      "32\n",
      "76\n",
      "89\n",
      "23\n",
      "54\n",
      "13\n",
      "list 1 [22, 33, 65, 12, 32]\n",
      "list 2 [76, 89, 23, 54, 13]\n",
      "\n",
      "Array 1: [22 33 65 12 32]\n",
      "\n",
      "Array 2: [76 89 23 54 13]\n",
      "\n",
      "Concatenated array: [22 33 65 12 32 76 89 23 54 13]\n",
      "\n",
      "Sorted Array: [12 13 22 23 32 33 54 65 76 89]\n"
     ]
    }
   ],
   "source": [
    "a=[]\n",
    "for i in range(5):\n",
    "    a.append(int(input()))\n",
    "\n",
    "\n",
    "b=[]\n",
    "for j in range(5):\n",
    "    b.append(int(input()))\n",
    "    \n",
    "print(\"list 1\",a)\n",
    "print(\"list 2\",b)\n",
    "\n",
    "print()\n",
    "    \n",
    "arr=np.array(a)\n",
    "print(\"Array 1:\",arr)\n",
    "print()\n",
    "\n",
    "arr2=np.array(b)\n",
    "print(\"Array 2:\",arr2)\n",
    "print()\n",
    "\n",
    "arr3=np.concatenate((arr , arr2))\n",
    "\n",
    "print(\"Concatenated array:\",arr3)\n",
    "print()\n",
    "\n",
    "arr4 = np.sort(arr3)\n",
    "print(\"Sorted Array:\",arr4)\n",
    " "
   ]
  },
  {
   "cell_type": "markdown",
   "metadata": {},
   "source": [
    "# Q3:-"
   ]
  },
  {
   "cell_type": "code",
   "execution_count": 8,
   "metadata": {},
   "outputs": [
    {
     "name": "stdout",
     "output_type": "stream",
     "text": [
      "[0 1 2 3 4 5 6 7 8 9]\n",
      "dimension: 1\n",
      "size: 10\n",
      "\n",
      "[[0 1 2 3 4]\n",
      " [5 6 7 8 9]]\n",
      "dimension: 2\n",
      "size: 10\n"
     ]
    }
   ],
   "source": [
    "arr1=np.arange(10)\n",
    "print(arr1)\n",
    "print(\"dimension:\",arr1.ndim)\n",
    "print(\"size:\",arr1.size)\n",
    "print()\n",
    "\n",
    "arr2=np.arange(10).reshape(2,5)\n",
    "print(arr2)\n",
    "print(\"dimension:\",arr2.ndim)\n",
    "print(\"size:\",arr2.size)\n"
   ]
  },
  {
   "cell_type": "markdown",
   "metadata": {},
   "source": [
    "# Q4:- "
   ]
  },
  {
   "cell_type": "code",
   "execution_count": 10,
   "metadata": {},
   "outputs": [
    {
     "name": "stdout",
     "output_type": "stream",
     "text": [
      "(7,)\n",
      "1\n",
      "\n",
      "(1, 7)\n",
      "2\n",
      "\n",
      "(1, 7)\n",
      "2\n"
     ]
    }
   ],
   "source": [
    "arr=np.array([1,2,3,4,5,6,6])\n",
    "print(arr.shape)\n",
    "print(arr.ndim)\n",
    "print()\n",
    "\n",
    "arr2=arr[np.newaxis, :]\n",
    "print(arr2.shape)\n",
    "print(arr2.ndim)\n",
    "print()\n",
    "\n",
    "arr3 = np.expand_dims(arr, axis=0)\n",
    "print(arr3.shape)\n",
    "print(arr3.ndim)"
   ]
  },
  {
   "cell_type": "markdown",
   "metadata": {},
   "source": [
    "# Q5"
   ]
  },
  {
   "cell_type": "code",
   "execution_count": 11,
   "metadata": {},
   "outputs": [
    {
     "name": "stdout",
     "output_type": "stream",
     "text": [
      "[[1 1]\n",
      " [2 2]]\n",
      "\n",
      "[[3 3]\n",
      " [4 4]]\n",
      "\n",
      "[[1 1]\n",
      " [2 2]\n",
      " [3 3]\n",
      " [4 4]]\n",
      "\n",
      "[[1 1 3 3]\n",
      " [2 2 4 4]]\n"
     ]
    }
   ],
   "source": [
    "arr1=np.array([[1,1],[2,2]])\n",
    "print(arr1)\n",
    "print()\n",
    "arr2= np.array([[3,3],[4,4]])\n",
    "print(arr2)\n",
    "print()\n",
    "\n",
    "print(np.vstack((arr1,arr2)))\n",
    "print()\n",
    "print(np.hstack((arr1,arr2)))"
   ]
  },
  {
   "cell_type": "markdown",
   "metadata": {},
   "source": [
    "# Q6:-\n",
    "\n"
   ]
  },
  {
   "cell_type": "code",
   "execution_count": 15,
   "metadata": {},
   "outputs": [
    {
     "name": "stdout",
     "output_type": "stream",
     "text": [
      "List: [1, 1, 2, 2, 3, 4, 4, 3]\n",
      "Unique Items: {1, 2, 3, 4}\n",
      "No. of Unique items: 4\n"
     ]
    }
   ],
   "source": [
    "a = [1, 1, 2, 2, 3,4,4,3]\n",
    "print(\"List:\",a)\n",
    "b = set(a)\n",
    "print(\"Unique Items:\",b)\n",
    "c = len(b)\n",
    "print(\"No. of Unique items:\",c)"
   ]
  },
  {
   "cell_type": "code",
   "execution_count": null,
   "metadata": {},
   "outputs": [],
   "source": []
  }
 ],
 "metadata": {
  "kernelspec": {
   "display_name": "Python 3",
   "language": "python",
   "name": "python3"
  },
  "language_info": {
   "codemirror_mode": {
    "name": "ipython",
    "version": 3
   },
   "file_extension": ".py",
   "mimetype": "text/x-python",
   "name": "python",
   "nbconvert_exporter": "python",
   "pygments_lexer": "ipython3",
   "version": "3.8.3"
  }
 },
 "nbformat": 4,
 "nbformat_minor": 4
}
