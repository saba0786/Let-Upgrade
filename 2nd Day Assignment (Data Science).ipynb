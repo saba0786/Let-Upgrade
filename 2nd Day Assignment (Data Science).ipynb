{
 "cells": [
  {
   "cell_type": "markdown",
   "metadata": {},
   "source": [
    "\n",
    "# Q1.\n",
    "\n",
    "\n",
    " "
   ]
  },
  {
   "cell_type": "code",
   "execution_count": 4,
   "metadata": {},
   "outputs": [
    {
     "name": "stdout",
     "output_type": "stream",
     "text": [
      "23\n",
      "43\n",
      "22\n",
      "56\n",
      "78\n",
      "90\n",
      "98\n",
      "43\n",
      "21\n",
      "45\n",
      "[22, 56, 78, 90, 98]\n"
     ]
    }
   ],
   "source": [
    "y=[]\n",
    "for i in range(10):\n",
    "    x=int(input())\n",
    "    \n",
    "    if x % 2 == 0:\n",
    "        y.append(x)\n",
    "        \n",
    "print(y)"
   ]
  },
  {
   "cell_type": "markdown",
   "metadata": {},
   "source": [
    "# Q2."
   ]
  },
  {
   "cell_type": "markdown",
   "metadata": {},
   "source": [
    "# List Comprehension\n",
    "List comprehensions are used for creating new lists from other iterables.\n",
    "As list comprehensions return lists, they consist of brackets containing the expression, \n",
    "which is executed for each element along with the for loop to iterate over each element.\n",
    "\n",
    "syntax:\n",
    "new_list = [expression for_loop_one_or_more conditions]\n",
    "\n",
    "for example :-\n",
    " Q)  finding square using list comprehension.\n",
    "\n",
    "   CODE :-  numbers = [1, 2, 3, 4]\n",
    "            squares = [n**2 for n in numbers]\n",
    "\n",
    "            print(squares) \n",
    "            \n",
    "   OUT PUT:-  [1, 4, 9, 16]\n",
    "  \n",
    "In this example n**2 (expression) is executed for each element in numbers.\n",
    "\n",
    "\n",
    "## Conditionals in List Comprehension\n",
    "\n",
    "List comprehensions can utilize conditional statement to modify existing list (or other tuples).\n",
    "\n",
    "for example:-\n",
    "\n",
    "1)   Using If with List Comprehension\n",
    "    \n",
    "    CODE :-      n = [ x for x in range(20) if x % 2 == 0]\n",
    "                 print(n)\n",
    "                 \n",
    "    OUTPUT:-     [0, 2, 4, 6, 8, 10, 12, 14, 16, 18]\n",
    "    \n",
    "In the this example, The list n, will be populated by the items in range from 0-19 if the items value is divisible by 2.\n",
    "\n",
    "2) Nested IF with List Comprehension\n",
    "   \n",
    "   CODE:-    num_list = [y for y in range(100) if y % 2 == 0 if y % 5 == 0]\n",
    "             print(num_list)\n",
    "             \n",
    "   OUTPUT:-  [0, 10, 20, 30, 40, 50, 60, 70, 80, 90]\n",
    "   \n",
    "In the above example, list comprehension checks for two different conridions i.e.\n",
    "          a) Is y divisible by 2 or not?\n",
    "          b)Is y divisible by 5 or not?\n",
    "If y satisfies both conditions then only y is appended to num_list. \n",
    "\n",
    "3) if...else With List Comprehension\n",
    "\n",
    "          CODE:-  obj = [\"Even\" if i%2==0 else \"Odd\" for i in range(10)]\n",
    "                  print(obj)\n",
    "                \n",
    "          OUTPUT:-  ['Even', 'Odd', 'Even', 'Odd', 'Even', 'Odd', 'Even', 'Odd', 'Even', 'Odd']\n",
    "\n",
    "Here, list comprehension will check the 10 numbers from 0 to 9. If i is divisible by 2, then Even is appended to the obj list. If not, Odd is appended.\n",
    "\n",
    "### Key Points to Remember\n",
    "\n",
    "   1)List comprehension is an elegant way to define and create lists based on existing lists.\n",
    "   2)List comprehension is generally more compact and faster than normal functions and loops for creating list.\n",
    "   3) To make the code user friendly, we should avoid writing long list comprehensions in one line.\n",
    "   4) every list comprehension can be rewritten in for loop, but every for loop can’t be rewritten in the form of \n",
    "      list comprehension."
   ]
  },
  {
   "cell_type": "markdown",
   "metadata": {},
   "source": [
    "# Q3."
   ]
  },
  {
   "cell_type": "code",
   "execution_count": 5,
   "metadata": {},
   "outputs": [
    {
     "name": "stdout",
     "output_type": "stream",
     "text": [
      "input:\n",
      "8\n",
      "output:\n",
      " {1: 1, 2: 4, 3: 9, 4: 16, 5: 25, 6: 36, 7: 49, 8: 64}\n"
     ]
    }
   ],
   "source": [
    "n = int(input(\"input:\\n\"))\n",
    "\n",
    "d={}\n",
    "i=1\n",
    "while i<=n:\n",
    "    d[i]=(i*i)\n",
    "    i=i+1\n",
    "    \n",
    "    \n",
    "print(\"output:\\n\",d)"
   ]
  },
  {
   "cell_type": "markdown",
   "metadata": {},
   "source": [
    "# Q4."
   ]
  },
  {
   "cell_type": "code",
   "execution_count": 7,
   "metadata": {},
   "outputs": [
    {
     "name": "stdout",
     "output_type": "stream",
     "text": [
      "4\n",
      "UP 5\n",
      "DOWN 3\n",
      "LEFT 3\n",
      "RIGHT 2\n",
      "2\n"
     ]
    }
   ],
   "source": [
    "import math\n",
    "\n",
    "x, y = 0, 0\n",
    "n=int (input())\n",
    "\n",
    "for i in range(n):\n",
    "    step = input()\n",
    "\n",
    "    if step == \"\":\n",
    "        break\n",
    "\n",
    "    else:\n",
    "        step = step.split(\" \")\n",
    "\n",
    "        if step[0] == \"UP\":\n",
    "            y = y + int(step[1])\n",
    "        elif step[0] == \"DOWN\":\n",
    "            y = y - int(step[1])\n",
    "        elif step[0] == \"LEFT\":\n",
    "            x = x - int(step[1])\n",
    "        elif step[0] == \"RIGHT\":\n",
    "            x = x + int(step[1])\n",
    "\n",
    "c = math.sqrt(x**2 + y**2)\n",
    "a=int(round(c))\n",
    "\n",
    "print(a) "
   ]
  },
  {
   "cell_type": "code",
   "execution_count": null,
   "metadata": {},
   "outputs": [],
   "source": []
  }
 ],
 "metadata": {
  "kernelspec": {
   "display_name": "Python 3",
   "language": "python",
   "name": "python3"
  },
  "language_info": {
   "codemirror_mode": {
    "name": "ipython",
    "version": 3
   },
   "file_extension": ".py",
   "mimetype": "text/x-python",
   "name": "python",
   "nbconvert_exporter": "python",
   "pygments_lexer": "ipython3",
   "version": "3.8.3"
  }
 },
 "nbformat": 4,
 "nbformat_minor": 4
}
