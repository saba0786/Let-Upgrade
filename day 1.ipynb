{
 "cells": [
  {
   "cell_type": "markdown",
   "metadata": {},
   "source": [
    "Q1 :-Correct English Word"
   ]
  },
  {
   "cell_type": "raw",
   "metadata": {},
   "source": [
    "RAINBOW"
   ]
  },
  {
   "cell_type": "raw",
   "metadata": {},
   "source": [
    " Q2:- Print LETS UPGRADE"
   ]
  },
  {
   "cell_type": "code",
   "execution_count": 3,
   "metadata": {
    "scrolled": true
   },
   "outputs": [
    {
     "name": "stdout",
     "output_type": "stream",
     "text": [
      " LETS UPGRADE\n"
     ]
    }
   ],
   "source": [
    "print(\" LETS UPGRADE\")"
   ]
  },
  {
   "cell_type": "raw",
   "metadata": {},
   "source": [
    "Q3:- Profit and loss"
   ]
  },
  {
   "cell_type": "code",
   "execution_count": 8,
   "metadata": {
    "scrolled": true
   },
   "outputs": [
    {
     "name": "stdout",
     "output_type": "stream",
     "text": [
      "20\n",
      "30\n",
      "Profit\n"
     ]
    }
   ],
   "source": [
    "cp= input()\n",
    "sp= input()\n",
    "if sp>cp:\n",
    "    print(\"Profit\")\n",
    "elif sp<cp:\n",
    "    \n",
    "    print (\"loss\")\n",
    "else:\n",
    "    print(\"Neither\")"
   ]
  },
  {
   "cell_type": "raw",
   "metadata": {},
   "source": [
    "Q4:- Euros to rupees"
   ]
  },
  {
   "cell_type": "code",
   "execution_count": 13,
   "metadata": {},
   "outputs": [
    {
     "name": "stdout",
     "output_type": "stream",
     "text": [
      "20\n",
      "1600\n"
     ]
    }
   ],
   "source": [
    "eu = int(input())\n",
    "rp= eu*80\n",
    "print(rp)\n"
   ]
  },
  {
   "cell_type": "markdown",
   "metadata": {},
   "source": [
    "# Thank You For This Informative Session....\n"
   ]
  },
  {
   "cell_type": "code",
   "execution_count": null,
   "metadata": {},
   "outputs": [],
   "source": []
  }
 ],
 "metadata": {
  "kernelspec": {
   "display_name": "Python 3",
   "language": "python",
   "name": "python3"
  },
  "language_info": {
   "codemirror_mode": {
    "name": "ipython",
    "version": 3
   },
   "file_extension": ".py",
   "mimetype": "text/x-python",
   "name": "python",
   "nbconvert_exporter": "python",
   "pygments_lexer": "ipython3",
   "version": "3.8.3"
  }
 },
 "nbformat": 4,
 "nbformat_minor": 4
}
